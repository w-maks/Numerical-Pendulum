{
 "cells": [
  {
   "cell_type": "code",
   "id": "initial_id",
   "metadata": {
    "collapsed": true,
    "ExecuteTime": {
     "end_time": "2025-05-03T22:37:18.129471Z",
     "start_time": "2025-05-03T22:37:18.118351Z"
    }
   },
   "source": "import pandas as pd",
   "outputs": [],
   "execution_count": 3
  },
  {
   "metadata": {
    "ExecuteTime": {
     "end_time": "2025-05-03T22:37:18.292147Z",
     "start_time": "2025-05-03T22:37:18.234206Z"
    }
   },
   "cell_type": "code",
   "source": [
    "df_4 = pd.read_csv(\"./cmake-build-debug/pendulum_4.csv\")\n",
    "df_45 = pd.read_csv(\"./cmake-build-debug/pendulum_45.csv\")\n",
    "df_90 = pd.read_csv(\"./cmake-build-debug/pendulum_90.csv\")\n",
    "df_135 = pd.read_csv(\"./cmake-build-debug/pendulum_135.csv\")\n",
    "df_175 = pd.read_csv(\"./cmake-build-debug/pendulum_175.csv\")"
   ],
   "id": "ad96a32d870ff7e8",
   "outputs": [],
   "execution_count": 4
  },
  {
   "metadata": {
    "ExecuteTime": {
     "end_time": "2025-05-03T22:37:18.330463Z",
     "start_time": "2025-05-03T22:37:18.322511Z"
    }
   },
   "cell_type": "code",
   "source": "",
   "id": "42cd3ada532e9950",
   "outputs": [],
   "execution_count": null
  }
 ],
 "metadata": {
  "kernelspec": {
   "display_name": "Python 3",
   "language": "python",
   "name": "python3"
  },
  "language_info": {
   "codemirror_mode": {
    "name": "ipython",
    "version": 2
   },
   "file_extension": ".py",
   "mimetype": "text/x-python",
   "name": "python",
   "nbconvert_exporter": "python",
   "pygments_lexer": "ipython2",
   "version": "2.7.6"
  }
 },
 "nbformat": 4,
 "nbformat_minor": 5
}
